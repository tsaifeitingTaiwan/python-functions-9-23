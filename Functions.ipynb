{
  "nbformat": 4,
  "nbformat_minor": 0,
  "metadata": {
    "colab": {
      "name": "Functions.ipynb",
      "provenance": [],
      "collapsed_sections": [
        "yAGmQXSgBzSs"
      ],
      "authorship_tag": "ABX9TyPWkMr2v4ERlkQHm5BSichJ",
      "include_colab_link": true
    },
    "kernelspec": {
      "name": "python3",
      "display_name": "Python 3"
    },
    "language_info": {
      "name": "python"
    }
  },
  "cells": [
    {
      "cell_type": "markdown",
      "metadata": {
        "id": "view-in-github",
        "colab_type": "text"
      },
      "source": [
        "<a href=\"https://colab.research.google.com/github/noahgift/python-functions-9-23/blob/main/Functions.ipynb\" target=\"_parent\"><img src=\"https://colab.research.google.com/assets/colab-badge.svg\" alt=\"Open In Colab\"/></a>"
      ]
    },
    {
      "cell_type": "markdown",
      "metadata": {
        "id": "R_jlz-fzBWLz"
      },
      "source": [
        "# Functions"
      ]
    },
    {
      "cell_type": "markdown",
      "metadata": {
        "id": "yAGmQXSgBzSs"
      },
      "source": [
        "## Functions Overiew"
      ]
    },
    {
      "cell_type": "markdown",
      "metadata": {
        "id": "7Hs7rEeKBY5O"
      },
      "source": [
        "This is an exploration of Function\n",
        "\n",
        "![functions-overview](https://user-images.githubusercontent.com/58792/132020390-db239278-a9a6-4791-9321-32077d7a5024.png)\n"
      ]
    },
    {
      "cell_type": "markdown",
      "metadata": {
        "id": "qGzTTAUvB2KJ"
      },
      "source": [
        "## Getting started with Functions"
      ]
    },
    {
      "cell_type": "code",
      "metadata": {
        "id": "zFm3AEIXBUHJ"
      },
      "source": [
        "def myfunc():pass   #this does nothing"
      ],
      "execution_count": 3,
      "outputs": []
    },
    {
      "cell_type": "code",
      "metadata": {
        "colab": {
          "base_uri": "https://localhost:8080/"
        },
        "id": "kxaWUn3sCFPN",
        "outputId": "a16c18a9-9ce3-4d2f-82ac-943b02500812"
      },
      "source": [
        "type(myfunc)"
      ],
      "execution_count": 2,
      "outputs": [
        {
          "output_type": "execute_result",
          "data": {
            "text/plain": [
              "function"
            ]
          },
          "metadata": {},
          "execution_count": 2
        }
      ]
    },
    {
      "cell_type": "markdown",
      "metadata": {
        "id": "keEHHkDTCd4e"
      },
      "source": [
        "### Function that takes input"
      ]
    },
    {
      "cell_type": "code",
      "metadata": {
        "id": "wEHGtlSECJcE"
      },
      "source": [
        "def accept(x):\n",
        "    print(f\"This was passed in: {x}\")"
      ],
      "execution_count": 4,
      "outputs": []
    },
    {
      "cell_type": "code",
      "metadata": {
        "colab": {
          "base_uri": "https://localhost:8080/"
        },
        "id": "qBvd2dtFCU9w",
        "outputId": "94c82019-6eb5-4376-a3a2-ad1ee2a874d5"
      },
      "source": [
        "accept(\"hello\")"
      ],
      "execution_count": 5,
      "outputs": [
        {
          "output_type": "stream",
          "name": "stdout",
          "text": [
            "This was passed in: hello\n"
          ]
        }
      ]
    },
    {
      "cell_type": "code",
      "metadata": {
        "colab": {
          "base_uri": "https://localhost:8080/"
        },
        "id": "nVbrUhaUCXky",
        "outputId": "6fa95427-421b-4d8c-ac66-ec1b327250fa"
      },
      "source": [
        "var = accept(\"hello\")\n",
        "type(var)"
      ],
      "execution_count": 6,
      "outputs": [
        {
          "output_type": "stream",
          "name": "stdout",
          "text": [
            "This was passed in: hello\n"
          ]
        },
        {
          "output_type": "execute_result",
          "data": {
            "text/plain": [
              "NoneType"
            ]
          },
          "metadata": {},
          "execution_count": 6
        }
      ]
    },
    {
      "cell_type": "code",
      "metadata": {
        "id": "_Z2zfaRbCmVx"
      },
      "source": [
        ""
      ],
      "execution_count": null,
      "outputs": []
    },
    {
      "cell_type": "markdown",
      "metadata": {
        "id": "g8x7dgaiCra3"
      },
      "source": [
        "### Function that returns values"
      ]
    },
    {
      "cell_type": "code",
      "metadata": {
        "id": "BnTV4sjJCtXv"
      },
      "source": [
        "def more(x):\n",
        "    print(f\"This was passed in: {x}\")\n",
        "    return x + 1"
      ],
      "execution_count": 7,
      "outputs": []
    },
    {
      "cell_type": "code",
      "metadata": {
        "colab": {
          "base_uri": "https://localhost:8080/"
        },
        "id": "U5E0y0dOCzmJ",
        "outputId": "c33390b4-e871-4f25-90ea-c71a44a34e89"
      },
      "source": [
        "more(2)"
      ],
      "execution_count": 9,
      "outputs": [
        {
          "output_type": "stream",
          "name": "stdout",
          "text": [
            "This was passed in: 2\n"
          ]
        },
        {
          "output_type": "execute_result",
          "data": {
            "text/plain": [
              "3"
            ]
          },
          "metadata": {},
          "execution_count": 9
        }
      ]
    },
    {
      "cell_type": "code",
      "metadata": {
        "colab": {
          "base_uri": "https://localhost:8080/"
        },
        "id": "UbvGWevSC1dn",
        "outputId": "05311edb-1c50-4aef-aab3-11177712be46"
      },
      "source": [
        "result = more(2)"
      ],
      "execution_count": 10,
      "outputs": [
        {
          "output_type": "stream",
          "name": "stdout",
          "text": [
            "This was passed in: 2\n"
          ]
        }
      ]
    },
    {
      "cell_type": "code",
      "metadata": {
        "colab": {
          "base_uri": "https://localhost:8080/"
        },
        "id": "o_jDZaEkC8fY",
        "outputId": "47cc703c-bb54-41b0-d40a-7926139ed9d2"
      },
      "source": [
        "type(result)"
      ],
      "execution_count": 11,
      "outputs": [
        {
          "output_type": "execute_result",
          "data": {
            "text/plain": [
              "int"
            ]
          },
          "metadata": {},
          "execution_count": 11
        }
      ]
    },
    {
      "cell_type": "code",
      "metadata": {
        "colab": {
          "base_uri": "https://localhost:8080/"
        },
        "id": "hJHsii6_C-ch",
        "outputId": "d63fc7ef-8478-4496-df54-96c5f290037f"
      },
      "source": [
        "result"
      ],
      "execution_count": 12,
      "outputs": [
        {
          "output_type": "execute_result",
          "data": {
            "text/plain": [
              "3"
            ]
          },
          "metadata": {},
          "execution_count": 12
        }
      ]
    },
    {
      "cell_type": "code",
      "metadata": {
        "id": "bBDe7zR1C_kJ"
      },
      "source": [
        "def add(x, y):\n",
        "    return x+y"
      ],
      "execution_count": 13,
      "outputs": []
    },
    {
      "cell_type": "code",
      "metadata": {
        "colab": {
          "base_uri": "https://localhost:8080/"
        },
        "id": "RhuQhBmEDL8F",
        "outputId": "67fdf5ee-d017-4a90-88d8-c7276b8ebfbe"
      },
      "source": [
        "add(1,1)"
      ],
      "execution_count": 14,
      "outputs": [
        {
          "output_type": "execute_result",
          "data": {
            "text/plain": [
              "2"
            ]
          },
          "metadata": {},
          "execution_count": 14
        }
      ]
    },
    {
      "cell_type": "code",
      "metadata": {
        "colab": {
          "base_uri": "https://localhost:8080/"
        },
        "id": "XT_qTvEZDNGc",
        "outputId": "ff86f079-3085-4841-9f53-24daf129c41c"
      },
      "source": [
        "add(2,2)"
      ],
      "execution_count": 15,
      "outputs": [
        {
          "output_type": "execute_result",
          "data": {
            "text/plain": [
              "4"
            ]
          },
          "metadata": {},
          "execution_count": 15
        }
      ]
    },
    {
      "cell_type": "markdown",
      "metadata": {
        "id": "hj_0fw5xD7hr"
      },
      "source": [
        "#### Python Functions Positional Arguments"
      ]
    },
    {
      "cell_type": "code",
      "metadata": {
        "id": "RSpSZpGWDP30"
      },
      "source": [
        "def add_more(x,y):\n",
        "    print(f\"This variable {x} is greater than the other variable {y}\")\n",
        "    return x+y"
      ],
      "execution_count": 16,
      "outputs": []
    },
    {
      "cell_type": "code",
      "metadata": {
        "colab": {
          "base_uri": "https://localhost:8080/"
        },
        "id": "X1cQ45eKDkei",
        "outputId": "8b3efe48-cee9-41ff-daaf-648369645322"
      },
      "source": [
        "add_more(2,1)"
      ],
      "execution_count": 18,
      "outputs": [
        {
          "output_type": "stream",
          "name": "stdout",
          "text": [
            "This variable 2 is greater than the other variable 1\n"
          ]
        },
        {
          "output_type": "execute_result",
          "data": {
            "text/plain": [
              "3"
            ]
          },
          "metadata": {},
          "execution_count": 18
        }
      ]
    },
    {
      "cell_type": "code",
      "metadata": {
        "colab": {
          "base_uri": "https://localhost:8080/"
        },
        "id": "scDX9IpMDl-s",
        "outputId": "3b7a77ee-20c4-406e-cc89-35e3b36f4499"
      },
      "source": [
        "x = 2\n",
        "y = 1\n",
        "add_more(x,y)"
      ],
      "execution_count": 20,
      "outputs": [
        {
          "output_type": "stream",
          "name": "stdout",
          "text": [
            "This variable 2 is greater than the other variable 1\n"
          ]
        },
        {
          "output_type": "execute_result",
          "data": {
            "text/plain": [
              "3"
            ]
          },
          "metadata": {},
          "execution_count": 20
        }
      ]
    },
    {
      "cell_type": "code",
      "metadata": {
        "colab": {
          "base_uri": "https://localhost:8080/"
        },
        "id": "Wuqe4I5hDuAJ",
        "outputId": "7498b9da-686b-47ed-d91a-c1528ae9f09e"
      },
      "source": [
        "add_more(y,x)"
      ],
      "execution_count": 21,
      "outputs": [
        {
          "output_type": "stream",
          "name": "stdout",
          "text": [
            "This variable 1 is greater than the other variable 2\n"
          ]
        },
        {
          "output_type": "execute_result",
          "data": {
            "text/plain": [
              "3"
            ]
          },
          "metadata": {},
          "execution_count": 21
        }
      ]
    },
    {
      "cell_type": "code",
      "metadata": {
        "id": "gpn718N2DzCw"
      },
      "source": [
        ""
      ],
      "execution_count": null,
      "outputs": []
    },
    {
      "cell_type": "markdown",
      "metadata": {
        "id": "Sa0FOc3JEBlb"
      },
      "source": [
        "#### Python Keyword Arguments"
      ]
    },
    {
      "cell_type": "code",
      "metadata": {
        "id": "4vXQQdeTEDT8"
      },
      "source": [
        "def add_keyword(x=2, y=1):\n",
        "    print(f\"This variable {x} is greater than the other variable {y}\")\n",
        "    return x+y"
      ],
      "execution_count": 22,
      "outputs": []
    },
    {
      "cell_type": "code",
      "metadata": {
        "colab": {
          "base_uri": "https://localhost:8080/"
        },
        "id": "TtEriRgnEL_i",
        "outputId": "69e63912-6d81-428b-8970-13f9a46ee864"
      },
      "source": [
        "add_keyword()"
      ],
      "execution_count": 23,
      "outputs": [
        {
          "output_type": "stream",
          "name": "stdout",
          "text": [
            "This variable 2 is greater than the other variable 1\n"
          ]
        },
        {
          "output_type": "execute_result",
          "data": {
            "text/plain": [
              "3"
            ]
          },
          "metadata": {},
          "execution_count": 23
        }
      ]
    },
    {
      "cell_type": "code",
      "metadata": {
        "colab": {
          "base_uri": "https://localhost:8080/"
        },
        "id": "dW958GweENzJ",
        "outputId": "1b98eb6c-a39b-4a0f-bfdf-27b9062ee20c"
      },
      "source": [
        "add_keyword(y=1,x=2)"
      ],
      "execution_count": 26,
      "outputs": [
        {
          "output_type": "stream",
          "name": "stdout",
          "text": [
            "This variable 2 is greater than the other variable 1\n"
          ]
        },
        {
          "output_type": "execute_result",
          "data": {
            "text/plain": [
              "3"
            ]
          },
          "metadata": {},
          "execution_count": 26
        }
      ]
    },
    {
      "cell_type": "code",
      "metadata": {
        "id": "e8kDhJgNEV1A"
      },
      "source": [
        ""
      ],
      "execution_count": null,
      "outputs": []
    },
    {
      "cell_type": "markdown",
      "metadata": {
        "id": "Zys40QegErHB"
      },
      "source": [
        "#### Python Decorator and Generators"
      ]
    },
    {
      "cell_type": "markdown",
      "metadata": {
        "id": "KuHBI2BEFmp-"
      },
      "source": [
        "Deals with infinite data streams"
      ]
    },
    {
      "cell_type": "code",
      "metadata": {
        "id": "NBi5TBoSEuJD"
      },
      "source": [
        "def lazy_return_random_attacks():\n",
        "    \"\"\"Yield attacks each time\"\"\"\n",
        "    import random\n",
        "    attacks = {\"kimura\": \"upper_body\",\n",
        "           \"straight_ankle_lock\":\"lower_body\", \n",
        "           \"arm_triangle\":\"upper_body\",\n",
        "            \"keylock\": \"upper_body\",\n",
        "            \"knee_bar\": \"lower_body\"}\n",
        "    while True:\n",
        "        random_attack = random.choices(list(attacks.keys()))\n",
        "        yield random_attack\n",
        "        \n",
        "#Make all attacks appear as Upper Case\n",
        "upper_case_attacks = (attack.pop().upper() for attack in lazy_return_random_attacks())"
      ],
      "execution_count": 27,
      "outputs": []
    },
    {
      "cell_type": "code",
      "metadata": {
        "colab": {
          "base_uri": "https://localhost:8080/",
          "height": 58
        },
        "id": "hQuFEAFoFOqB",
        "outputId": "93445765-75b4-49e8-9a34-3e9cdb842cf3"
      },
      "source": [
        "next(upper_case_attacks)"
      ],
      "execution_count": 35,
      "outputs": [
        {
          "output_type": "execute_result",
          "data": {
            "application/vnd.google.colaboratory.intrinsic+json": {
              "type": "string"
            },
            "text/plain": [
              "'STRAIGHT_ANKLE_LOCK'"
            ]
          },
          "metadata": {},
          "execution_count": 35
        }
      ]
    },
    {
      "cell_type": "markdown",
      "metadata": {
        "id": "PhR2e2A0FW-x"
      },
      "source": [
        "Build a pipeline"
      ]
    },
    {
      "cell_type": "code",
      "metadata": {
        "id": "HSlPEGMiFX-i"
      },
      "source": [
        "## Generator Pipeline:  One expression chains into the next\n",
        "#Make all attacks appear as Upper Case\n",
        "upper_case_attacks = (attack.pop().upper() for attack in lazy_return_random_attacks())\n",
        "#Remove the underscore\n",
        "remove_underscore = (attack.split(\"_\") for attack in upper_case_attacks)\n",
        "#Create a new phrase \n",
        "new_attack_phrase = (\" \".join(phrase) for phrase in remove_underscore)\n",
        "#this is where you can call an AI API\n",
        "#my_api_call = comprehend(new_attack_phrase)"
      ],
      "execution_count": 36,
      "outputs": []
    },
    {
      "cell_type": "code",
      "metadata": {
        "colab": {
          "base_uri": "https://localhost:8080/"
        },
        "id": "Y9zUkPwXFZuf",
        "outputId": "6aedf6d9-79ee-4191-f7e3-b6b446fa0943"
      },
      "source": [
        "for number in range(10):\n",
        "    print(next(new_attack_phrase))"
      ],
      "execution_count": 43,
      "outputs": [
        {
          "output_type": "stream",
          "name": "stdout",
          "text": [
            "STRAIGHT ANKLE LOCK\n",
            "KNEE BAR\n",
            "KEYLOCK\n",
            "KNEE BAR\n",
            "ARM TRIANGLE\n",
            "KEYLOCK\n",
            "KIMURA\n",
            "KNEE BAR\n",
            "KEYLOCK\n",
            "KIMURA\n"
          ]
        }
      ]
    },
    {
      "cell_type": "code",
      "metadata": {
        "id": "v98xPG8pFab5"
      },
      "source": [
        ""
      ],
      "execution_count": null,
      "outputs": []
    },
    {
      "cell_type": "markdown",
      "metadata": {
        "id": "H0KYDpkpF4Bp"
      },
      "source": [
        "#### Decorator"
      ]
    },
    {
      "cell_type": "code",
      "metadata": {
        "id": "pB-utEvHF5Kw"
      },
      "source": [
        "def randomized_speed_attack_decorator(function):\n",
        "    \"\"\"Randomizes the speed of attacks\"\"\"\n",
        "    \n",
        "    import time\n",
        "    import random\n",
        "    \n",
        "    def wrapper_func(*args, **kwargs):\n",
        "        sleep_time = random.randint(0,3)\n",
        "        print(f\"Attacking after {sleep_time} seconds\")\n",
        "        time.sleep(sleep_time)\n",
        "        return function(*args, **kwargs)\n",
        "    return wrapper_func"
      ],
      "execution_count": 44,
      "outputs": []
    },
    {
      "cell_type": "code",
      "metadata": {
        "id": "9uMFuCB7GE1h"
      },
      "source": [
        "@randomized_speed_attack_decorator\n",
        "def lazy_return_random_attacks():\n",
        "    \"\"\"Yield attacks each time\"\"\"\n",
        "    import random\n",
        "    attacks = {\"kimura\": \"upper_body\",\n",
        "           \"straight_ankle_lock\":\"lower_body\", \n",
        "           \"arm_triangle\":\"upper_body\",\n",
        "            \"keylock\": \"upper_body\",\n",
        "            \"knee_bar\": \"lower_body\"}\n",
        "    while True:\n",
        "        random_attack = random.choices(list(attacks.keys()))\n",
        "        yield random_attack"
      ],
      "execution_count": 45,
      "outputs": []
    },
    {
      "cell_type": "code",
      "metadata": {
        "colab": {
          "base_uri": "https://localhost:8080/"
        },
        "id": "eLMPa5pDGMDV",
        "outputId": "3920da2d-9748-4a84-d44e-aac1e7846a8c"
      },
      "source": [
        "for _ in range(5):\n",
        "    print(next(lazy_return_random_attacks()))"
      ],
      "execution_count": 46,
      "outputs": [
        {
          "output_type": "stream",
          "name": "stdout",
          "text": [
            "Attacking after 2 seconds\n",
            "['kimura']\n",
            "Attacking after 2 seconds\n",
            "['kimura']\n",
            "Attacking after 3 seconds\n",
            "['kimura']\n",
            "Attacking after 3 seconds\n",
            "['knee_bar']\n",
            "Attacking after 0 seconds\n",
            "['knee_bar']\n"
          ]
        }
      ]
    },
    {
      "cell_type": "markdown",
      "metadata": {
        "id": "Gvm84XppGc3v"
      },
      "source": [
        "#### Simple Timing Decorator"
      ]
    },
    {
      "cell_type": "code",
      "metadata": {
        "id": "ZzErHsRBGfGX"
      },
      "source": [
        "from functools import wraps\n",
        "from time import time\n",
        "\n",
        "def timing(f):\n",
        "    @wraps(f)\n",
        "    def wrap(*args, **kw):\n",
        "        ts = time()\n",
        "        result = f(*args, **kw)\n",
        "        te = time()\n",
        "        print(f\"DEBUG!!! function name: {f.__name__}, args: [{args}, {kw}] took: {te-ts} sec\")\n",
        "        return result\n",
        "    return wrap"
      ],
      "execution_count": 55,
      "outputs": []
    },
    {
      "cell_type": "code",
      "metadata": {
        "id": "tBSKhYjhG0dg"
      },
      "source": [
        "def add(x,y):\n",
        "    return x+y"
      ],
      "execution_count": 48,
      "outputs": []
    },
    {
      "cell_type": "code",
      "metadata": {
        "colab": {
          "base_uri": "https://localhost:8080/"
        },
        "id": "sIVTjatWG3gF",
        "outputId": "abb76633-8096-4636-a88d-da32966c3d0a"
      },
      "source": [
        "add(1,1)"
      ],
      "execution_count": 49,
      "outputs": [
        {
          "output_type": "execute_result",
          "data": {
            "text/plain": [
              "2"
            ]
          },
          "metadata": {},
          "execution_count": 49
        }
      ]
    },
    {
      "cell_type": "code",
      "metadata": {
        "id": "gNXN0p9YG4Zs"
      },
      "source": [
        "@timing\n",
        "def add(x,y):\n",
        "    return x+y"
      ],
      "execution_count": 56,
      "outputs": []
    },
    {
      "cell_type": "code",
      "metadata": {
        "colab": {
          "base_uri": "https://localhost:8080/"
        },
        "id": "3LQ4ddHQG_mV",
        "outputId": "c950bfe0-4246-403f-8f46-e8a4bdbf649f"
      },
      "source": [
        "add(2,2)"
      ],
      "execution_count": 57,
      "outputs": [
        {
          "output_type": "stream",
          "name": "stdout",
          "text": [
            "DEBUG!!! function name: add, args: [(2, 2), {}] took: 7.152557373046875e-07 sec\n"
          ]
        },
        {
          "output_type": "execute_result",
          "data": {
            "text/plain": [
              "4"
            ]
          },
          "metadata": {},
          "execution_count": 57
        }
      ]
    },
    {
      "cell_type": "code",
      "metadata": {
        "id": "Qrdzqy2LHBQk"
      },
      "source": [
        ""
      ],
      "execution_count": null,
      "outputs": []
    },
    {
      "cell_type": "markdown",
      "metadata": {
        "id": "mT1J2SFDNVSM"
      },
      "source": [
        "#### How Closures Work"
      ]
    },
    {
      "cell_type": "code",
      "metadata": {
        "id": "pGrxqFJkNYO4"
      },
      "source": [
        "def one():\n",
        "    return 1"
      ],
      "execution_count": 58,
      "outputs": []
    },
    {
      "cell_type": "code",
      "metadata": {
        "id": "ea138YA0NbMX"
      },
      "source": [
        "def outer():\n",
        "    return one"
      ],
      "execution_count": 59,
      "outputs": []
    },
    {
      "cell_type": "code",
      "metadata": {
        "id": "niByD3JjNetu"
      },
      "source": [
        "res = outer()"
      ],
      "execution_count": 60,
      "outputs": []
    },
    {
      "cell_type": "code",
      "metadata": {
        "colab": {
          "base_uri": "https://localhost:8080/"
        },
        "id": "5tRDQRz1NgkV",
        "outputId": "3cfbb639-fe48-453a-e1b6-749f80405e37"
      },
      "source": [
        "type(res)"
      ],
      "execution_count": 61,
      "outputs": [
        {
          "output_type": "execute_result",
          "data": {
            "text/plain": [
              "function"
            ]
          },
          "metadata": {},
          "execution_count": 61
        }
      ]
    },
    {
      "cell_type": "code",
      "metadata": {
        "colab": {
          "base_uri": "https://localhost:8080/"
        },
        "id": "t1SLhAadNhS4",
        "outputId": "ff038cbf-7ffc-4bc3-af35-c9f82c1afe5c"
      },
      "source": [
        "res()"
      ],
      "execution_count": 62,
      "outputs": [
        {
          "output_type": "execute_result",
          "data": {
            "text/plain": [
              "1"
            ]
          },
          "metadata": {},
          "execution_count": 62
        }
      ]
    },
    {
      "cell_type": "markdown",
      "metadata": {
        "id": "C-pqoZ7iOBIC"
      },
      "source": [
        "Nested Function"
      ]
    },
    {
      "cell_type": "code",
      "metadata": {
        "id": "Og3afw_JOAb-"
      },
      "source": [
        "def outer():\n",
        "    def inner():\n",
        "        return \"I was inside\"\n",
        "    return inner"
      ],
      "execution_count": 63,
      "outputs": []
    },
    {
      "cell_type": "code",
      "metadata": {
        "colab": {
          "base_uri": "https://localhost:8080/"
        },
        "id": "qnqEx-8nOKSh",
        "outputId": "f3c55ed4-d5b4-4c8b-9ed1-fdfed1605f02"
      },
      "source": [
        "result = outer()\n",
        "type(result)"
      ],
      "execution_count": 64,
      "outputs": [
        {
          "output_type": "execute_result",
          "data": {
            "text/plain": [
              "function"
            ]
          },
          "metadata": {},
          "execution_count": 64
        }
      ]
    },
    {
      "cell_type": "code",
      "metadata": {
        "colab": {
          "base_uri": "https://localhost:8080/",
          "height": 58
        },
        "id": "1dxY1aDqOOmK",
        "outputId": "12a28417-e8c2-45aa-f986-ef74df46d4cd"
      },
      "source": [
        "result()"
      ],
      "execution_count": 65,
      "outputs": [
        {
          "output_type": "execute_result",
          "data": {
            "application/vnd.google.colaboratory.intrinsic+json": {
              "type": "string"
            },
            "text/plain": [
              "'I was inside'"
            ]
          },
          "metadata": {},
          "execution_count": 65
        }
      ]
    },
    {
      "cell_type": "markdown",
      "metadata": {
        "id": "tx3hBHtKNwaM"
      },
      "source": [
        "How closure works"
      ]
    },
    {
      "cell_type": "code",
      "metadata": {
        "id": "Vt528VVJNnbr"
      },
      "source": [
        "#nonlocal cannot modify this variable\n",
        "#lower_body_counter=5\n",
        "def attack_counter():\n",
        "    \"\"\"Counts number of attacks on part of body\"\"\"\n",
        "    lower_body_counter = 0\n",
        "    upper_body_counter = 0\n",
        "    #print(lower_body_counter)\n",
        "    def attack_filter(attack):\n",
        "        nonlocal lower_body_counter\n",
        "        nonlocal upper_body_counter\n",
        "        attacks = {\"kimura\": \"upper_body\",\n",
        "           \"straight_ankle_lock\":\"lower_body\", \n",
        "           \"arm_triangle\":\"upper_body\",\n",
        "            \"keylock\": \"upper_body\",\n",
        "            \"knee_bar\": \"lower_body\"}\n",
        "        if attack in attacks:\n",
        "            if attacks[attack] == \"upper_body\":\n",
        "                upper_body_counter +=1\n",
        "            if attacks[attack] == \"lower_body\":\n",
        "                lower_body_counter +=1\n",
        "        print(f\"Upper Body Attacks {upper_body_counter}, Lower Body Attacks {lower_body_counter}\")\n",
        "    return attack_filter"
      ],
      "execution_count": 66,
      "outputs": []
    },
    {
      "cell_type": "code",
      "metadata": {
        "id": "qWQzNtT2Olit"
      },
      "source": [
        "fight = attack_counter()"
      ],
      "execution_count": 67,
      "outputs": []
    },
    {
      "cell_type": "code",
      "metadata": {
        "colab": {
          "base_uri": "https://localhost:8080/"
        },
        "id": "qmqXgqLBOnw-",
        "outputId": "b7755a4a-c026-4b84-8c62-3a42fb8c3cd0"
      },
      "source": [
        "type(fight)"
      ],
      "execution_count": 68,
      "outputs": [
        {
          "output_type": "execute_result",
          "data": {
            "text/plain": [
              "function"
            ]
          },
          "metadata": {},
          "execution_count": 68
        }
      ]
    },
    {
      "cell_type": "code",
      "metadata": {
        "colab": {
          "base_uri": "https://localhost:8080/"
        },
        "id": "crLfvR60Oovc",
        "outputId": "2ceb1721-bbd5-4c44-cc90-f7e82eff8ada"
      },
      "source": [
        "fight(\"kimura\")"
      ],
      "execution_count": 69,
      "outputs": [
        {
          "output_type": "stream",
          "name": "stdout",
          "text": [
            "Upper Body Attacks 1, Lower Body Attacks 0\n"
          ]
        }
      ]
    },
    {
      "cell_type": "code",
      "metadata": {
        "colab": {
          "base_uri": "https://localhost:8080/"
        },
        "id": "o5QMsrqiOu2q",
        "outputId": "43692ed0-75f8-47e5-c1e4-d49e3a6d7b2a"
      },
      "source": [
        "fight(\"kimura\")"
      ],
      "execution_count": 70,
      "outputs": [
        {
          "output_type": "stream",
          "name": "stdout",
          "text": [
            "Upper Body Attacks 2, Lower Body Attacks 0\n"
          ]
        }
      ]
    },
    {
      "cell_type": "code",
      "metadata": {
        "colab": {
          "base_uri": "https://localhost:8080/"
        },
        "id": "1Qye-pqTOw4x",
        "outputId": "4c79c5f6-3fc5-4a97-83ed-3c59829fb2be"
      },
      "source": [
        "fight(\"kimura\")"
      ],
      "execution_count": 71,
      "outputs": [
        {
          "output_type": "stream",
          "name": "stdout",
          "text": [
            "Upper Body Attacks 3, Lower Body Attacks 0\n"
          ]
        }
      ]
    },
    {
      "cell_type": "code",
      "metadata": {
        "colab": {
          "base_uri": "https://localhost:8080/"
        },
        "id": "6ugjoI1LOxih",
        "outputId": "807379e6-656b-4ab1-a87b-2ac3c43dd22b"
      },
      "source": [
        "fight(\"knee_bar\")"
      ],
      "execution_count": 72,
      "outputs": [
        {
          "output_type": "stream",
          "name": "stdout",
          "text": [
            "Upper Body Attacks 3, Lower Body Attacks 1\n"
          ]
        }
      ]
    },
    {
      "cell_type": "code",
      "metadata": {
        "id": "O8yX4Mz8O03g"
      },
      "source": [
        ""
      ],
      "execution_count": null,
      "outputs": []
    },
    {
      "cell_type": "markdown",
      "metadata": {
        "id": "rGjfeLToPU7p"
      },
      "source": [
        "#### Wild Card Variables for Functions"
      ]
    },
    {
      "cell_type": "code",
      "metadata": {
        "id": "xZsHWNyOPX06"
      },
      "source": [
        "def output(*args):\n",
        "    print(f\"You passed in this many items to the function: {len(args)}\")\n",
        "    for arg in args:\n",
        "        print(arg)"
      ],
      "execution_count": 77,
      "outputs": []
    },
    {
      "cell_type": "code",
      "metadata": {
        "colab": {
          "base_uri": "https://localhost:8080/"
        },
        "id": "afNyK7BqPhnd",
        "outputId": "aaa7e274-12ea-4a1d-d965-1c984e4344c2"
      },
      "source": [
        "output(1)"
      ],
      "execution_count": 78,
      "outputs": [
        {
          "output_type": "stream",
          "name": "stdout",
          "text": [
            "You passed in this many items to the function: 1\n",
            "1\n"
          ]
        }
      ]
    },
    {
      "cell_type": "code",
      "metadata": {
        "colab": {
          "base_uri": "https://localhost:8080/"
        },
        "id": "f9MVaHWBPjMk",
        "outputId": "baf8a5b7-58eb-4d6f-d043-fc7b658883f0"
      },
      "source": [
        "output(1,2)"
      ],
      "execution_count": 79,
      "outputs": [
        {
          "output_type": "stream",
          "name": "stdout",
          "text": [
            "You passed in this many items to the function: 2\n",
            "1\n",
            "2\n"
          ]
        }
      ]
    },
    {
      "cell_type": "code",
      "metadata": {
        "colab": {
          "base_uri": "https://localhost:8080/"
        },
        "id": "sKG-6Z2UPlzM",
        "outputId": "eb8a44e5-e193-4476-b792-138a76824a3e"
      },
      "source": [
        "output(1,2,3)"
      ],
      "execution_count": 80,
      "outputs": [
        {
          "output_type": "stream",
          "name": "stdout",
          "text": [
            "You passed in this many items to the function: 3\n",
            "1\n",
            "2\n",
            "3\n"
          ]
        }
      ]
    },
    {
      "cell_type": "code",
      "metadata": {
        "id": "2twykzcMPnkr"
      },
      "source": [
        "def more(**kwargs):\n",
        "    print(f\"You passed in this many items to the function: {len(kwargs)}\")\n",
        "    for key, value in kwargs.items():\n",
        "        print(f\"This is the key: {key}\")\n",
        "        print(f\"This is the value: {value}\")"
      ],
      "execution_count": 81,
      "outputs": []
    },
    {
      "cell_type": "code",
      "metadata": {
        "colab": {
          "base_uri": "https://localhost:8080/"
        },
        "id": "IDT5C0ycQDv4",
        "outputId": "268f43f8-8da2-4244-cb8b-bd710dda31c3"
      },
      "source": [
        "more(one=1)"
      ],
      "execution_count": 82,
      "outputs": [
        {
          "output_type": "stream",
          "name": "stdout",
          "text": [
            "You passed in this many items to the function: 1\n",
            "This is the key: one\n",
            "This is the value: 1\n"
          ]
        }
      ]
    },
    {
      "cell_type": "code",
      "metadata": {
        "colab": {
          "base_uri": "https://localhost:8080/"
        },
        "id": "MWET4TlrQF8s",
        "outputId": "52a43080-69fc-48f3-f78a-1d151e618f4a"
      },
      "source": [
        "more(one=1, two=2, three=3)"
      ],
      "execution_count": 83,
      "outputs": [
        {
          "output_type": "stream",
          "name": "stdout",
          "text": [
            "You passed in this many items to the function: 3\n",
            "This is the key: one\n",
            "This is the value: 1\n",
            "This is the key: two\n",
            "This is the value: 2\n",
            "This is the key: three\n",
            "This is the value: 3\n"
          ]
        }
      ]
    },
    {
      "cell_type": "code",
      "metadata": {
        "id": "wcdZsMXUQKnk"
      },
      "source": [
        ""
      ],
      "execution_count": null,
      "outputs": []
    }
  ]
}
